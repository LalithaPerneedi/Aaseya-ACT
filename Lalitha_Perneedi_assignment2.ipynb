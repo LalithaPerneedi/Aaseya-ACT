{
 "cells": [
  {
   "cell_type": "code",
   "execution_count": 20,
   "id": "7e115f5e-0c6b-4428-914e-d7f031b943e9",
   "metadata": {},
   "outputs": [
    {
     "name": "stdout",
     "output_type": "stream",
     "text": [
      "users_continents = {'Europe': 7, 'Asia': 5, 'Central America': 1, 'Australia': 1, 'North America': 2, 'South America': 1, 'Africa': 1}\n"
     ]
    }
   ],
   "source": [
    "users = [\n",
    "    ('Maria', 'Greek'), ('Jean', 'Maltese'),\n",
    "    ('Juan', 'Spanish'), ('Dima', 'Ukrainian'),\n",
    "    ('Agata', 'Thai'), ('Rafal', 'Polish'),\n",
    "    ('Diego', 'Turkish'), ('Stan', 'Panamanian'),\n",
    "    ('John', 'Australian'), ('Frank', 'Belgian'),\n",
    "    ('Jane', 'Canadian'), ('Paul', 'Argentinian'),\n",
    "    ('Taylor', 'Danish'), ('Kate', 'American'),\n",
    "    ('Mark', 'Sri Lankan'), ('Jane', 'Japanese'),\n",
    "    ('Ted', 'Indian'), ('Jean', 'Egyptian')\n",
    "]\n",
    "\n",
    "nationality_to_continents = {\n",
    "    'Greek': 'Europe', 'Maltese': 'Europe',\n",
    "    'Spanish': 'Europe', 'Ukrainian': 'Europe',\n",
    "    'Thai': 'Asia', 'Polish': 'Europe',\n",
    "    'Turkish': 'Asia', 'Panamanian': 'Central America',\n",
    "    'Australian': 'Australia', 'Belgian': 'Europe',\n",
    "    'Canadian': 'North America', 'Argentinian': 'South America',\n",
    "    'Danish': 'Europe', 'American': 'North America',\n",
    "    'Sri Lankan': 'Asia', 'Japanese': 'Asia',\n",
    "    'Indian': 'Asia', 'Egyptian': 'Africa'\n",
    "}\n",
    "\n",
    "continents = {}\n",
    "\n",
    "for name, nationality in users:\n",
    "    continent = nationality_to_continents.get(nationality)\n",
    "    if continent:\n",
    "        continents[continent] = continents.get(continent, 0) + 1\n",
    "\n",
    "print(f\"users_continents = {continents}\")"
   ]
  },
  {
   "cell_type": "code",
   "execution_count": 23,
   "id": "c8bc1c74-7f5c-4563-ab5c-97dca4b140fe",
   "metadata": {},
   "outputs": [
    {
     "name": "stdout",
     "output_type": "stream",
     "text": [
      "Filtered List (without SQL specialists):\n",
      "[('Leslie Burton', 'HR Specialist', 2300), ('Dorothy Castillo', 'UX Designer', 3100)]\n"
     ]
    }
   ],
   "source": [
    "def remove_sql_specialists(people_list):\n",
    "   \n",
    "    filtered_list = []\n",
    "    for person in people_list:\n",
    "        name, job_title, salary = person\n",
    "        if \"SQL\" not in job_title:\n",
    "            filtered_list.append(person)\n",
    "    return filtered_list\n",
    "\n",
    "\n",
    "new_hires = [\n",
    "    ('Mark Adams', 'SQL Analyst', 4000),\n",
    "    ('Leslie Burton', 'HR Specialist', 2300),\n",
    "    ('Dorothy Castillo', 'UX Designer', 3100)\n",
    "]\n",
    "\n",
    "Non_sql_hires = remove_sql_specialists(new_hires)\n",
    "\n",
    "print(\"Filtered List (without SQL specialists):\")\n",
    "\n",
    "print(Non_sql_hires)\n",
    "\n"
   ]
  },
  {
   "cell_type": "code",
   "execution_count": 26,
   "id": "6b5a25ec-a7ef-4a63-92a5-dadcac00866c",
   "metadata": {},
   "outputs": [
    {
     "name": "stdin",
     "output_type": "stream",
     "text": [
      "Enter a string:  Lalitha12345\n"
     ]
    },
    {
     "name": "stdout",
     "output_type": "stream",
     "text": [
      "Number of letters: 7\n",
      "Number of digits: 5\n"
     ]
    }
   ],
   "source": [
    "user_input = input(\"Enter a string: \")\n",
    "\n",
    "Lcount = 0\n",
    "Dcount = 0\n",
    "\n",
    "for char in user_input:\n",
    "    if char.isalpha():         \n",
    "        Lcount += 1\n",
    "    elif char.isdigit():       \n",
    "        Dcount += 1\n",
    "\n",
    "print(\"Number of letters:\", Lcount)\n",
    "print(\"Number of digits:\", Dcount)"
   ]
  },
  {
   "cell_type": "code",
   "execution_count": 16,
   "id": "a839496d-fe3c-4f83-a9c4-3357813bfa18",
   "metadata": {},
   "outputs": [
    {
     "name": "stdout",
     "output_type": "stream",
     "text": [
      "Enter 5 numbers:\n"
     ]
    },
    {
     "name": "stdin",
     "output_type": "stream",
     "text": [
      "Enter numbers 1 :  1\n",
      "Enter numbers 2 :  2\n",
      "Enter numbers 3 :  3\n",
      "Enter numbers 4 :  4\n",
      "Enter numbers 5 :  5\n"
     ]
    },
    {
     "name": "stdout",
     "output_type": "stream",
     "text": [
      "The median is: 3.0\n"
     ]
    }
   ],
   "source": [
    "numbers = []\n",
    "\n",
    "print(\"Enter 5 numbers:\")\n",
    "for i in range(5):\n",
    "    num = float(input(f\"Enter numbers {i+1} : \"))\n",
    "    numbers.append(num)\n",
    "\n",
    "numbers.sort()\n",
    "\n",
    "median = numbers[2]\n",
    "\n",
    "print(\"The median is:\", median)"
   ]
  },
  {
   "cell_type": "code",
   "execution_count": 25,
   "id": "d1ba0c83-e54d-4d62-b303-815bf95a2988",
   "metadata": {},
   "outputs": [
    {
     "name": "stdout",
     "output_type": "stream",
     "text": [
      "200,202,204,206,208,220,222,224,226,228,240,242,244,246,248,260,262,264,266,268,280,282,284,286,288,400\n"
     ]
    }
   ],
   "source": [
    "def even_digited_number(num):\n",
    "    for digit in str(num):\n",
    "        if int(digit) % 2 != 0:  \n",
    "            return False\n",
    "    return True\n",
    "\n",
    "result = []\n",
    "\n",
    "for number in range(100, 401):\n",
    "    if even_digited_number(number):\n",
    "        result.append(str(number))  \n",
    "\n",
    "print(\",\".join(result))"
   ]
  },
  {
   "cell_type": "code",
   "execution_count": null,
   "id": "9914df2f-d6ea-469a-9f65-85d08626d0b8",
   "metadata": {},
   "outputs": [],
   "source": []
  }
 ],
 "metadata": {
  "kernelspec": {
   "display_name": "Python 3 (ipykernel)",
   "language": "python",
   "name": "python3"
  },
  "language_info": {
   "codemirror_mode": {
    "name": "ipython",
    "version": 3
   },
   "file_extension": ".py",
   "mimetype": "text/x-python",
   "name": "python",
   "nbconvert_exporter": "python",
   "pygments_lexer": "ipython3",
   "version": "3.12.7"
  }
 },
 "nbformat": 4,
 "nbformat_minor": 5
}
